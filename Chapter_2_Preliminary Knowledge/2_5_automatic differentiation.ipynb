{
 "cells": [
  {
   "cell_type": "markdown",
   "id": "9afca2f2",
   "metadata": {},
   "source": [
    "#### 2.5 自动微分\n",
    "\n",
    "深度学习框架通过自动计算导数，即自动微分（automatic differentiation）来加快求导。实际中，根据设计\n",
    "好的模型，系统会构建一个计算图（computational graph），来跟踪计算是哪些数据通过哪些操作组合起来\n",
    "产生输出。自动微分使系统能够随后反向传播梯度。这里，反向传播（backpropagate）意味着跟踪整个计算\n",
    "图，填充关于每个参数的偏导数。"
   ]
  },
  {
   "cell_type": "markdown",
   "id": "bd99148a",
   "metadata": {},
   "source": [
    "##### 2.5.1 一个简单的例子\n",
    "\n",
    "假设，想对函数 $y = 2 \\mathbf{x}^{T} \\mathbf{x}$ 关于列向量 $\\mathbf{x}$ 求导。\n",
    "\n",
    "首先，创建变量 `x` 并为其分配一个初始值。 "
   ]
  },
  {
   "cell_type": "code",
   "execution_count": 1,
   "id": "85653afa",
   "metadata": {},
   "outputs": [
    {
     "data": {
      "text/plain": [
       "tensor([0, 1, 2, 3])"
      ]
     },
     "execution_count": 1,
     "metadata": {},
     "output_type": "execute_result"
    }
   ],
   "source": [
    "import torch\n",
    "\n",
    "x = torch.arange(4)\n",
    "\n",
    "x"
   ]
  },
  {
   "cell_type": "code",
   "execution_count": null,
   "id": "9aa2b22d",
   "metadata": {},
   "outputs": [],
   "source": [
    "\n",
    "\n"
   ]
  }
 ],
 "metadata": {
  "kernelspec": {
   "display_name": "d2l_liang",
   "language": "python",
   "name": "python3"
  },
  "language_info": {
   "codemirror_mode": {
    "name": "ipython",
    "version": 3
   },
   "file_extension": ".py",
   "mimetype": "text/x-python",
   "name": "python",
   "nbconvert_exporter": "python",
   "pygments_lexer": "ipython3",
   "version": "3.9.21"
  }
 },
 "nbformat": 4,
 "nbformat_minor": 5
}
